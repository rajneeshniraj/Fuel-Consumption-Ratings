{
 "cells": [
  {
   "cell_type": "markdown",
   "id": "63b42b4d",
   "metadata": {},
   "source": [
    "# Fuel consumption ratings and estimated CO₂ emissions"
   ]
  },
  {
   "cell_type": "markdown",
   "id": "746a238c",
   "metadata": {},
   "source": [
    "### **Dataset Information**\n",
    "Datasets provide model-specific fuel consumption ratings and estimated carbon dioxide emissions for new light-duty vehicles for retail sale in Canada.\n",
    "\n",
    "**Model:**\n",
    "\n",
    "* 4WD/4X4 = Four-wheel drive\n",
    "* AWD = All-wheel drive\n",
    "* FFV = Flexible-fuel vehicle\n",
    "* SWB = Short wheelbase\n",
    "* LWB = Long wheelbase\n",
    "* EWB = Extended wheelbase\n",
    "\n",
    "**Transmission:**\n",
    "* A = automatic\n",
    "* AM = automated manual\n",
    "* AS = automatic with select shift\n",
    "* AV = continuously variable\n",
    "* M = manual\n",
    "* 3 – 10 = Number of gears\n",
    "\n",
    "**Fuel type:**\n",
    "* X = regular gasoline\n",
    "* Z = premium gasoline\n",
    "* D = diesel\n",
    "* E = ethanol (E85)\n",
    "* N = natural gas\n",
    "\n",
    "**Fuel consumption:** City and highway fuel consumption ratings are shown in litres per 100 kilometres (L/100 km) - the combined rating (55% city, 45% hwy) is shown in L/100 km and in miles per imperial gallon (mpg)\n",
    "\n",
    "**CO2 emissions:** the tailpipe emissions of carbon dioxide (in grams per kilometre) for combined city and highway driving\n",
    "\n",
    "**CO2 rating:** the tailpipe emissions of carbon dioxide rated on a scale from 1 (worst) to 10 (best)\n",
    "\n",
    "**Smog rating:** the tailpipe emissions of smog-forming pollutants rated on a scale from 1 (worst) to 10 (best)\n"
   ]
  },
  {
   "cell_type": "markdown",
   "id": "221a87b1",
   "metadata": {},
   "source": [
    "### Importing the required packages"
   ]
  },
  {
   "cell_type": "code",
   "execution_count": 1,
   "id": "2acebef3",
   "metadata": {},
   "outputs": [],
   "source": [
    "import numpy as np \n",
    "import pandas as pd \n",
    "import matplotlib.pyplot as plt\n",
    "from sklearn import linear_model\n",
    "from sklearn.model_selection import train_test_split\n",
    "from sklearn.preprocessing import OrdinalEncoder\n",
    "from sklearn.metrics import mean_squared_error, r2_score\n",
    "import seaborn as sns\n",
    "import scipy.stats as stats\n",
    "from scipy.stats import chi2"
   ]
  },
  {
   "cell_type": "markdown",
   "id": "282db230",
   "metadata": {},
   "source": [
    "### Loading the database"
   ]
  },
  {
   "cell_type": "code",
   "execution_count": 2,
   "id": "5f34c25a",
   "metadata": {
    "scrolled": true
   },
   "outputs": [
    {
     "data": {
      "text/html": [
       "<div>\n",
       "<style scoped>\n",
       "    .dataframe tbody tr th:only-of-type {\n",
       "        vertical-align: middle;\n",
       "    }\n",
       "\n",
       "    .dataframe tbody tr th {\n",
       "        vertical-align: top;\n",
       "    }\n",
       "\n",
       "    .dataframe thead th {\n",
       "        text-align: right;\n",
       "    }\n",
       "</style>\n",
       "<table border=\"1\" class=\"dataframe\">\n",
       "  <thead>\n",
       "    <tr style=\"text-align: right;\">\n",
       "      <th></th>\n",
       "      <th>Model Year</th>\n",
       "      <th>Make</th>\n",
       "      <th>Model</th>\n",
       "      <th>Vehicle Class</th>\n",
       "      <th>Engine Size(L)</th>\n",
       "      <th>Cylinders</th>\n",
       "      <th>Transmission</th>\n",
       "      <th>Fuel Type</th>\n",
       "      <th>Fuel Consumption (City (L/100 km)</th>\n",
       "      <th>Fuel Consumption(Hwy (L/100 km))</th>\n",
       "      <th>Fuel Consumption(Comb (L/100 km))</th>\n",
       "      <th>Fuel Consumption(Comb (mpg))</th>\n",
       "      <th>CO2 Emissions(g/km)</th>\n",
       "      <th>CO2 Rating</th>\n",
       "      <th>Smog Rating</th>\n",
       "    </tr>\n",
       "  </thead>\n",
       "  <tbody>\n",
       "    <tr>\n",
       "      <th>0</th>\n",
       "      <td>2022</td>\n",
       "      <td>Acura</td>\n",
       "      <td>ILX</td>\n",
       "      <td>Compact</td>\n",
       "      <td>2.4</td>\n",
       "      <td>4</td>\n",
       "      <td>AM8</td>\n",
       "      <td>Z</td>\n",
       "      <td>NaN</td>\n",
       "      <td>7.0</td>\n",
       "      <td>8.6</td>\n",
       "      <td>33.0</td>\n",
       "      <td>200.0</td>\n",
       "      <td>6.0</td>\n",
       "      <td>3.0</td>\n",
       "    </tr>\n",
       "    <tr>\n",
       "      <th>1</th>\n",
       "      <td>2022</td>\n",
       "      <td>Acura</td>\n",
       "      <td>MDX SH-AWD</td>\n",
       "      <td>SUV: Small</td>\n",
       "      <td>3.5</td>\n",
       "      <td>6</td>\n",
       "      <td>AS10</td>\n",
       "      <td>Z</td>\n",
       "      <td>12.6</td>\n",
       "      <td>9.4</td>\n",
       "      <td>11.2</td>\n",
       "      <td>25.0</td>\n",
       "      <td>263.0</td>\n",
       "      <td>4.0</td>\n",
       "      <td>5.0</td>\n",
       "    </tr>\n",
       "    <tr>\n",
       "      <th>2</th>\n",
       "      <td>2022</td>\n",
       "      <td>Acura</td>\n",
       "      <td>RDX SH-AWD</td>\n",
       "      <td>SUV: Small</td>\n",
       "      <td>2.0</td>\n",
       "      <td>4</td>\n",
       "      <td>AS10</td>\n",
       "      <td>Z</td>\n",
       "      <td>11.0</td>\n",
       "      <td>8.6</td>\n",
       "      <td>9.9</td>\n",
       "      <td>29.0</td>\n",
       "      <td>232.0</td>\n",
       "      <td>5.0</td>\n",
       "      <td>6.0</td>\n",
       "    </tr>\n",
       "    <tr>\n",
       "      <th>3</th>\n",
       "      <td>2022</td>\n",
       "      <td>Acura</td>\n",
       "      <td>RDX SH-AWD A-SPEC</td>\n",
       "      <td>SUV: Small</td>\n",
       "      <td>2.0</td>\n",
       "      <td>4</td>\n",
       "      <td>AS10</td>\n",
       "      <td>Z</td>\n",
       "      <td>11.3</td>\n",
       "      <td>9.1</td>\n",
       "      <td>10.3</td>\n",
       "      <td>27.0</td>\n",
       "      <td>242.0</td>\n",
       "      <td>5.0</td>\n",
       "      <td>6.0</td>\n",
       "    </tr>\n",
       "    <tr>\n",
       "      <th>4</th>\n",
       "      <td>2022</td>\n",
       "      <td>Acura</td>\n",
       "      <td>TLX SH-AWD</td>\n",
       "      <td>Compact</td>\n",
       "      <td>2.0</td>\n",
       "      <td>4</td>\n",
       "      <td>AS10</td>\n",
       "      <td>Z</td>\n",
       "      <td>11.2</td>\n",
       "      <td>8.0</td>\n",
       "      <td>9.8</td>\n",
       "      <td>29.0</td>\n",
       "      <td>230.0</td>\n",
       "      <td>5.0</td>\n",
       "      <td>7.0</td>\n",
       "    </tr>\n",
       "    <tr>\n",
       "      <th>...</th>\n",
       "      <td>...</td>\n",
       "      <td>...</td>\n",
       "      <td>...</td>\n",
       "      <td>...</td>\n",
       "      <td>...</td>\n",
       "      <td>...</td>\n",
       "      <td>...</td>\n",
       "      <td>...</td>\n",
       "      <td>...</td>\n",
       "      <td>...</td>\n",
       "      <td>...</td>\n",
       "      <td>...</td>\n",
       "      <td>...</td>\n",
       "      <td>...</td>\n",
       "      <td>...</td>\n",
       "    </tr>\n",
       "    <tr>\n",
       "      <th>940</th>\n",
       "      <td>2022</td>\n",
       "      <td>Volvo</td>\n",
       "      <td>XC40 T5 AWD</td>\n",
       "      <td>SUV: Small</td>\n",
       "      <td>2.0</td>\n",
       "      <td>4</td>\n",
       "      <td>AS8</td>\n",
       "      <td>Z</td>\n",
       "      <td>10.7</td>\n",
       "      <td>7.7</td>\n",
       "      <td>9.4</td>\n",
       "      <td>30.0</td>\n",
       "      <td>219.0</td>\n",
       "      <td>5.0</td>\n",
       "      <td>5.0</td>\n",
       "    </tr>\n",
       "    <tr>\n",
       "      <th>941</th>\n",
       "      <td>2022</td>\n",
       "      <td>Volvo</td>\n",
       "      <td>XC60 B5 AWD</td>\n",
       "      <td>SUV: Small</td>\n",
       "      <td>2.0</td>\n",
       "      <td>4</td>\n",
       "      <td>AS8</td>\n",
       "      <td>Z</td>\n",
       "      <td>10.5</td>\n",
       "      <td>8.1</td>\n",
       "      <td>9.4</td>\n",
       "      <td>30.0</td>\n",
       "      <td>219.0</td>\n",
       "      <td>5.0</td>\n",
       "      <td>5.0</td>\n",
       "    </tr>\n",
       "    <tr>\n",
       "      <th>942</th>\n",
       "      <td>2022</td>\n",
       "      <td>Volvo</td>\n",
       "      <td>XC60 B6 AWD</td>\n",
       "      <td>SUV: Small</td>\n",
       "      <td>2.0</td>\n",
       "      <td>4</td>\n",
       "      <td>AS8</td>\n",
       "      <td>Z</td>\n",
       "      <td>11.0</td>\n",
       "      <td>8.7</td>\n",
       "      <td>9.9</td>\n",
       "      <td>29.0</td>\n",
       "      <td>232.0</td>\n",
       "      <td>5.0</td>\n",
       "      <td>NaN</td>\n",
       "    </tr>\n",
       "    <tr>\n",
       "      <th>943</th>\n",
       "      <td>2022</td>\n",
       "      <td>Volvo</td>\n",
       "      <td>XC90 T5 AWD</td>\n",
       "      <td>SUV: Standard</td>\n",
       "      <td>2.0</td>\n",
       "      <td>4</td>\n",
       "      <td>AS8</td>\n",
       "      <td>Z</td>\n",
       "      <td>11.5</td>\n",
       "      <td>8.4</td>\n",
       "      <td>10.1</td>\n",
       "      <td>28.0</td>\n",
       "      <td>236.0</td>\n",
       "      <td>5.0</td>\n",
       "      <td>5.0</td>\n",
       "    </tr>\n",
       "    <tr>\n",
       "      <th>944</th>\n",
       "      <td>2022</td>\n",
       "      <td>Volvo</td>\n",
       "      <td>XC90 T6 AWD</td>\n",
       "      <td>SUV: Standard</td>\n",
       "      <td>2.0</td>\n",
       "      <td>4</td>\n",
       "      <td>AS8</td>\n",
       "      <td>Z</td>\n",
       "      <td>NaN</td>\n",
       "      <td>8.9</td>\n",
       "      <td>10.8</td>\n",
       "      <td>26.0</td>\n",
       "      <td>252.0</td>\n",
       "      <td>5.0</td>\n",
       "      <td>7.0</td>\n",
       "    </tr>\n",
       "  </tbody>\n",
       "</table>\n",
       "<p>945 rows × 15 columns</p>\n",
       "</div>"
      ],
      "text/plain": [
       "     Model Year   Make              Model  Vehicle Class  Engine Size(L)  \\\n",
       "0          2022  Acura                ILX        Compact             2.4   \n",
       "1          2022  Acura         MDX SH-AWD     SUV: Small             3.5   \n",
       "2          2022  Acura         RDX SH-AWD     SUV: Small             2.0   \n",
       "3          2022  Acura  RDX SH-AWD A-SPEC     SUV: Small             2.0   \n",
       "4          2022  Acura         TLX SH-AWD        Compact             2.0   \n",
       "..          ...    ...                ...            ...             ...   \n",
       "940        2022  Volvo        XC40 T5 AWD     SUV: Small             2.0   \n",
       "941        2022  Volvo        XC60 B5 AWD     SUV: Small             2.0   \n",
       "942        2022  Volvo        XC60 B6 AWD     SUV: Small             2.0   \n",
       "943        2022  Volvo        XC90 T5 AWD  SUV: Standard             2.0   \n",
       "944        2022  Volvo        XC90 T6 AWD  SUV: Standard             2.0   \n",
       "\n",
       "     Cylinders Transmission Fuel Type  Fuel Consumption (City (L/100 km)  \\\n",
       "0            4          AM8         Z                                NaN   \n",
       "1            6         AS10         Z                               12.6   \n",
       "2            4         AS10         Z                               11.0   \n",
       "3            4         AS10         Z                               11.3   \n",
       "4            4         AS10         Z                               11.2   \n",
       "..         ...          ...       ...                                ...   \n",
       "940          4          AS8         Z                               10.7   \n",
       "941          4          AS8         Z                               10.5   \n",
       "942          4          AS8         Z                               11.0   \n",
       "943          4          AS8         Z                               11.5   \n",
       "944          4          AS8         Z                                NaN   \n",
       "\n",
       "     Fuel Consumption(Hwy (L/100 km))  Fuel Consumption(Comb (L/100 km))  \\\n",
       "0                                 7.0                                8.6   \n",
       "1                                 9.4                               11.2   \n",
       "2                                 8.6                                9.9   \n",
       "3                                 9.1                               10.3   \n",
       "4                                 8.0                                9.8   \n",
       "..                                ...                                ...   \n",
       "940                               7.7                                9.4   \n",
       "941                               8.1                                9.4   \n",
       "942                               8.7                                9.9   \n",
       "943                               8.4                               10.1   \n",
       "944                               8.9                               10.8   \n",
       "\n",
       "     Fuel Consumption(Comb (mpg))  CO2 Emissions(g/km)  CO2 Rating  \\\n",
       "0                            33.0                200.0         6.0   \n",
       "1                            25.0                263.0         4.0   \n",
       "2                            29.0                232.0         5.0   \n",
       "3                            27.0                242.0         5.0   \n",
       "4                            29.0                230.0         5.0   \n",
       "..                            ...                  ...         ...   \n",
       "940                          30.0                219.0         5.0   \n",
       "941                          30.0                219.0         5.0   \n",
       "942                          29.0                232.0         5.0   \n",
       "943                          28.0                236.0         5.0   \n",
       "944                          26.0                252.0         5.0   \n",
       "\n",
       "     Smog Rating  \n",
       "0            3.0  \n",
       "1            5.0  \n",
       "2            6.0  \n",
       "3            6.0  \n",
       "4            7.0  \n",
       "..           ...  \n",
       "940          5.0  \n",
       "941          5.0  \n",
       "942          NaN  \n",
       "943          5.0  \n",
       "944          7.0  \n",
       "\n",
       "[945 rows x 15 columns]"
      ]
     },
     "execution_count": 2,
     "metadata": {},
     "output_type": "execute_result"
    }
   ],
   "source": [
    "df=pd.read_csv('MY2022 Fuel Consumption Ratings.csv')\n",
    "df"
   ]
  },
  {
   "cell_type": "markdown",
   "id": "4adf8e61",
   "metadata": {},
   "source": [
    "## Data Exploration"
   ]
  },
  {
   "cell_type": "code",
   "execution_count": 3,
   "id": "c3d91a00",
   "metadata": {},
   "outputs": [
    {
     "name": "stdout",
     "output_type": "stream",
     "text": [
      "<class 'pandas.core.frame.DataFrame'>\n",
      "RangeIndex: 945 entries, 0 to 944\n",
      "Data columns (total 15 columns):\n",
      " #   Column                             Non-Null Count  Dtype  \n",
      "---  ------                             --------------  -----  \n",
      " 0   Model Year                         945 non-null    int64  \n",
      " 1   Make                               945 non-null    object \n",
      " 2   Model                              945 non-null    object \n",
      " 3   Vehicle Class                      945 non-null    object \n",
      " 4   Engine Size(L)                     945 non-null    float64\n",
      " 5   Cylinders                          945 non-null    int64  \n",
      " 6   Transmission                       945 non-null    object \n",
      " 7   Fuel Type                          944 non-null    object \n",
      " 8   Fuel Consumption (City (L/100 km)  931 non-null    float64\n",
      " 9   Fuel Consumption(Hwy (L/100 km))   930 non-null    float64\n",
      " 10  Fuel Consumption(Comb (L/100 km))  945 non-null    float64\n",
      " 11  Fuel Consumption(Comb (mpg))       931 non-null    float64\n",
      " 12  CO2 Emissions(g/km)                934 non-null    float64\n",
      " 13  CO2 Rating                         932 non-null    float64\n",
      " 14  Smog Rating                        927 non-null    float64\n",
      "dtypes: float64(8), int64(2), object(5)\n",
      "memory usage: 110.9+ KB\n"
     ]
    }
   ],
   "source": [
    "df.info()"
   ]
  },
  {
   "cell_type": "code",
   "execution_count": 4,
   "id": "7e23ff0e",
   "metadata": {},
   "outputs": [
    {
     "name": "stdout",
     "output_type": "stream",
     "text": [
      "Shape of dataset: (945, 15)\n",
      "Size of dataset: 14175\n"
     ]
    }
   ],
   "source": [
    "print(f\"Shape of dataset: {df.shape}\")\n",
    "print(f\"Size of dataset: {df.size}\")"
   ]
  },
  {
   "cell_type": "code",
   "execution_count": null,
   "id": "5653271c",
   "metadata": {},
   "outputs": [],
   "source": []
  },
  {
   "cell_type": "code",
   "execution_count": 5,
   "id": "dd91e824",
   "metadata": {},
   "outputs": [
    {
     "data": {
      "text/plain": [
       "Model Year                            0\n",
       "Make                                  0\n",
       "Model                                 0\n",
       "Vehicle Class                         0\n",
       "Engine Size(L)                        0\n",
       "Cylinders                             0\n",
       "Transmission                          0\n",
       "Fuel Type                             1\n",
       "Fuel Consumption (City (L/100 km)    14\n",
       "Fuel Consumption(Hwy (L/100 km))     15\n",
       "Fuel Consumption(Comb (L/100 km))     0\n",
       "Fuel Consumption(Comb (mpg))         14\n",
       "CO2 Emissions(g/km)                  11\n",
       "CO2 Rating                           13\n",
       "Smog Rating                          18\n",
       "dtype: int64"
      ]
     },
     "execution_count": 5,
     "metadata": {},
     "output_type": "execute_result"
    }
   ],
   "source": [
    "df.isnull().sum()"
   ]
  },
  {
   "cell_type": "code",
   "execution_count": 6,
   "id": "e1e75e93",
   "metadata": {},
   "outputs": [
    {
     "name": "stdout",
     "output_type": "stream",
     "text": [
      "Total no. of null(missing) values in dataset : 86\n"
     ]
    }
   ],
   "source": [
    "print(f\"Total no. of null(missing) values in dataset : {df.isnull().sum().sum()}\")"
   ]
  },
  {
   "cell_type": "markdown",
   "id": "f86b3b54",
   "metadata": {},
   "source": [
    "### Treating missing values"
   ]
  },
  {
   "cell_type": "code",
   "execution_count": 7,
   "id": "19d30e10",
   "metadata": {},
   "outputs": [],
   "source": [
    "# for categorical variables replacing missing values with mode"
   ]
  },
  {
   "cell_type": "code",
   "execution_count": 8,
   "id": "67d304e9",
   "metadata": {},
   "outputs": [],
   "source": [
    "df['Fuel Type'].fillna(df['Fuel Type'].mode()[0],inplace=True)"
   ]
  },
  {
   "cell_type": "code",
   "execution_count": 9,
   "id": "b38368da",
   "metadata": {},
   "outputs": [],
   "source": [
    "df['CO2 Rating'].fillna(df['CO2 Rating'].mode()[0],inplace=True)"
   ]
  },
  {
   "cell_type": "code",
   "execution_count": 10,
   "id": "22bf83fc",
   "metadata": {},
   "outputs": [],
   "source": [
    "df['Smog Rating'].fillna(df['Smog Rating'].mode()[0],inplace=True)"
   ]
  },
  {
   "cell_type": "code",
   "execution_count": 11,
   "id": "d55c9871",
   "metadata": {},
   "outputs": [],
   "source": [
    "# for continuous numerical variables replacing missing values with median"
   ]
  },
  {
   "cell_type": "code",
   "execution_count": 12,
   "id": "3da5b0c4",
   "metadata": {},
   "outputs": [],
   "source": [
    "df['Fuel Consumption (City (L/100 km)'].fillna(df['Fuel Consumption (City (L/100 km)'].median(),inplace=True)"
   ]
  },
  {
   "cell_type": "code",
   "execution_count": 13,
   "id": "931bd41c",
   "metadata": {},
   "outputs": [],
   "source": [
    "df['Fuel Consumption(Hwy (L/100 km))'].fillna(df['Fuel Consumption(Hwy (L/100 km))'].median(),inplace=True)"
   ]
  },
  {
   "cell_type": "code",
   "execution_count": 14,
   "id": "bd9a0801",
   "metadata": {},
   "outputs": [],
   "source": [
    "df['Fuel Consumption(Comb (mpg))'].fillna(df['Fuel Consumption(Comb (mpg))'].median(),inplace=True)"
   ]
  },
  {
   "cell_type": "code",
   "execution_count": 15,
   "id": "6155d17b",
   "metadata": {},
   "outputs": [],
   "source": [
    "df['CO2 Emissions(g/km)'].fillna(df['CO2 Emissions(g/km)'].median(),inplace=True)"
   ]
  },
  {
   "cell_type": "code",
   "execution_count": null,
   "id": "95932391",
   "metadata": {},
   "outputs": [],
   "source": []
  },
  {
   "cell_type": "code",
   "execution_count": 16,
   "id": "2b751c0c",
   "metadata": {},
   "outputs": [
    {
     "name": "stdout",
     "output_type": "stream",
     "text": [
      "Total no. of null(missing) values in dataset : 0\n"
     ]
    }
   ],
   "source": [
    "print(f\"Total no. of null(missing) values in dataset : {df.isnull().sum().sum()}\")"
   ]
  },
  {
   "cell_type": "code",
   "execution_count": null,
   "id": "cf497822",
   "metadata": {},
   "outputs": [],
   "source": []
  },
  {
   "cell_type": "code",
   "execution_count": 17,
   "id": "ef8ff14c",
   "metadata": {},
   "outputs": [
    {
     "name": "stdout",
     "output_type": "stream",
     "text": [
      "No. of duplicated rows = 0\n"
     ]
    }
   ],
   "source": [
    "print(f'No. of duplicated rows = {df.duplicated().sum()}')"
   ]
  },
  {
   "cell_type": "markdown",
   "id": "e3e59d2a",
   "metadata": {},
   "source": [
    "### Descriptive Statistical Analysis"
   ]
  },
  {
   "cell_type": "code",
   "execution_count": 18,
   "id": "d1886753",
   "metadata": {},
   "outputs": [
    {
     "data": {
      "text/html": [
       "<div>\n",
       "<style scoped>\n",
       "    .dataframe tbody tr th:only-of-type {\n",
       "        vertical-align: middle;\n",
       "    }\n",
       "\n",
       "    .dataframe tbody tr th {\n",
       "        vertical-align: top;\n",
       "    }\n",
       "\n",
       "    .dataframe thead th {\n",
       "        text-align: right;\n",
       "    }\n",
       "</style>\n",
       "<table border=\"1\" class=\"dataframe\">\n",
       "  <thead>\n",
       "    <tr style=\"text-align: right;\">\n",
       "      <th></th>\n",
       "      <th>count</th>\n",
       "      <th>mean</th>\n",
       "      <th>std</th>\n",
       "      <th>min</th>\n",
       "      <th>25%</th>\n",
       "      <th>50%</th>\n",
       "      <th>75%</th>\n",
       "      <th>max</th>\n",
       "    </tr>\n",
       "  </thead>\n",
       "  <tbody>\n",
       "    <tr>\n",
       "      <th>Model Year</th>\n",
       "      <td>945.0</td>\n",
       "      <td>2022.000000</td>\n",
       "      <td>0.000000</td>\n",
       "      <td>2022.0</td>\n",
       "      <td>2022.0</td>\n",
       "      <td>2022.0</td>\n",
       "      <td>2022.0</td>\n",
       "      <td>2022.0</td>\n",
       "    </tr>\n",
       "    <tr>\n",
       "      <th>Engine Size(L)</th>\n",
       "      <td>945.0</td>\n",
       "      <td>3.199683</td>\n",
       "      <td>1.375231</td>\n",
       "      <td>1.2</td>\n",
       "      <td>2.0</td>\n",
       "      <td>3.0</td>\n",
       "      <td>3.8</td>\n",
       "      <td>8.0</td>\n",
       "    </tr>\n",
       "    <tr>\n",
       "      <th>Cylinders</th>\n",
       "      <td>945.0</td>\n",
       "      <td>5.669841</td>\n",
       "      <td>1.932930</td>\n",
       "      <td>3.0</td>\n",
       "      <td>4.0</td>\n",
       "      <td>6.0</td>\n",
       "      <td>6.0</td>\n",
       "      <td>16.0</td>\n",
       "    </tr>\n",
       "    <tr>\n",
       "      <th>Fuel Consumption (City (L/100 km)</th>\n",
       "      <td>945.0</td>\n",
       "      <td>12.501799</td>\n",
       "      <td>3.413909</td>\n",
       "      <td>4.0</td>\n",
       "      <td>10.3</td>\n",
       "      <td>12.2</td>\n",
       "      <td>14.7</td>\n",
       "      <td>30.3</td>\n",
       "    </tr>\n",
       "    <tr>\n",
       "      <th>Fuel Consumption(Hwy (L/100 km))</th>\n",
       "      <td>945.0</td>\n",
       "      <td>9.356085</td>\n",
       "      <td>2.273979</td>\n",
       "      <td>3.9</td>\n",
       "      <td>7.7</td>\n",
       "      <td>9.2</td>\n",
       "      <td>10.6</td>\n",
       "      <td>20.9</td>\n",
       "    </tr>\n",
       "    <tr>\n",
       "      <th>Fuel Consumption(Comb (L/100 km))</th>\n",
       "      <td>945.0</td>\n",
       "      <td>11.093439</td>\n",
       "      <td>2.877491</td>\n",
       "      <td>4.0</td>\n",
       "      <td>9.1</td>\n",
       "      <td>10.8</td>\n",
       "      <td>12.9</td>\n",
       "      <td>26.1</td>\n",
       "    </tr>\n",
       "    <tr>\n",
       "      <th>Fuel Consumption(Comb (mpg))</th>\n",
       "      <td>945.0</td>\n",
       "      <td>27.241270</td>\n",
       "      <td>7.668101</td>\n",
       "      <td>11.0</td>\n",
       "      <td>22.0</td>\n",
       "      <td>26.0</td>\n",
       "      <td>31.0</td>\n",
       "      <td>71.0</td>\n",
       "    </tr>\n",
       "    <tr>\n",
       "      <th>CO2 Emissions(g/km)</th>\n",
       "      <td>945.0</td>\n",
       "      <td>259.112698</td>\n",
       "      <td>63.958058</td>\n",
       "      <td>94.0</td>\n",
       "      <td>214.0</td>\n",
       "      <td>257.5</td>\n",
       "      <td>299.0</td>\n",
       "      <td>608.0</td>\n",
       "    </tr>\n",
       "    <tr>\n",
       "      <th>CO2 Rating</th>\n",
       "      <td>945.0</td>\n",
       "      <td>4.556614</td>\n",
       "      <td>1.460359</td>\n",
       "      <td>1.0</td>\n",
       "      <td>3.0</td>\n",
       "      <td>5.0</td>\n",
       "      <td>5.0</td>\n",
       "      <td>10.0</td>\n",
       "    </tr>\n",
       "    <tr>\n",
       "      <th>Smog Rating</th>\n",
       "      <td>945.0</td>\n",
       "      <td>4.953439</td>\n",
       "      <td>1.665945</td>\n",
       "      <td>1.0</td>\n",
       "      <td>3.0</td>\n",
       "      <td>5.0</td>\n",
       "      <td>6.0</td>\n",
       "      <td>7.0</td>\n",
       "    </tr>\n",
       "  </tbody>\n",
       "</table>\n",
       "</div>"
      ],
      "text/plain": [
       "                                   count         mean        std     min  \\\n",
       "Model Year                         945.0  2022.000000   0.000000  2022.0   \n",
       "Engine Size(L)                     945.0     3.199683   1.375231     1.2   \n",
       "Cylinders                          945.0     5.669841   1.932930     3.0   \n",
       "Fuel Consumption (City (L/100 km)  945.0    12.501799   3.413909     4.0   \n",
       "Fuel Consumption(Hwy (L/100 km))   945.0     9.356085   2.273979     3.9   \n",
       "Fuel Consumption(Comb (L/100 km))  945.0    11.093439   2.877491     4.0   \n",
       "Fuel Consumption(Comb (mpg))       945.0    27.241270   7.668101    11.0   \n",
       "CO2 Emissions(g/km)                945.0   259.112698  63.958058    94.0   \n",
       "CO2 Rating                         945.0     4.556614   1.460359     1.0   \n",
       "Smog Rating                        945.0     4.953439   1.665945     1.0   \n",
       "\n",
       "                                      25%     50%     75%     max  \n",
       "Model Year                         2022.0  2022.0  2022.0  2022.0  \n",
       "Engine Size(L)                        2.0     3.0     3.8     8.0  \n",
       "Cylinders                             4.0     6.0     6.0    16.0  \n",
       "Fuel Consumption (City (L/100 km)    10.3    12.2    14.7    30.3  \n",
       "Fuel Consumption(Hwy (L/100 km))      7.7     9.2    10.6    20.9  \n",
       "Fuel Consumption(Comb (L/100 km))     9.1    10.8    12.9    26.1  \n",
       "Fuel Consumption(Comb (mpg))         22.0    26.0    31.0    71.0  \n",
       "CO2 Emissions(g/km)                 214.0   257.5   299.0   608.0  \n",
       "CO2 Rating                            3.0     5.0     5.0    10.0  \n",
       "Smog Rating                           3.0     5.0     6.0     7.0  "
      ]
     },
     "execution_count": 18,
     "metadata": {},
     "output_type": "execute_result"
    }
   ],
   "source": [
    "df.describe().T"
   ]
  },
  {
   "cell_type": "code",
   "execution_count": 19,
   "id": "26dc6070",
   "metadata": {},
   "outputs": [
    {
     "data": {
      "text/html": [
       "<div>\n",
       "<style scoped>\n",
       "    .dataframe tbody tr th:only-of-type {\n",
       "        vertical-align: middle;\n",
       "    }\n",
       "\n",
       "    .dataframe tbody tr th {\n",
       "        vertical-align: top;\n",
       "    }\n",
       "\n",
       "    .dataframe thead th {\n",
       "        text-align: right;\n",
       "    }\n",
       "</style>\n",
       "<table border=\"1\" class=\"dataframe\">\n",
       "  <thead>\n",
       "    <tr style=\"text-align: right;\">\n",
       "      <th></th>\n",
       "      <th>Fuel Type</th>\n",
       "      <th>Model Year</th>\n",
       "      <th>Engine Size(L)</th>\n",
       "      <th>Cylinders</th>\n",
       "      <th>Fuel Consumption (City (L/100 km)</th>\n",
       "      <th>Fuel Consumption(Hwy (L/100 km))</th>\n",
       "      <th>Fuel Consumption(Comb (L/100 km))</th>\n",
       "      <th>Fuel Consumption(Comb (mpg))</th>\n",
       "      <th>CO2 Emissions(g/km)</th>\n",
       "      <th>CO2 Rating</th>\n",
       "      <th>Smog Rating</th>\n",
       "    </tr>\n",
       "  </thead>\n",
       "  <tbody>\n",
       "    <tr>\n",
       "      <th>0</th>\n",
       "      <td>D</td>\n",
       "      <td>2022.0</td>\n",
       "      <td>2.964286</td>\n",
       "      <td>5.642857</td>\n",
       "      <td>11.282143</td>\n",
       "      <td>8.664286</td>\n",
       "      <td>10.117857</td>\n",
       "      <td>27.928571</td>\n",
       "      <td>271.571429</td>\n",
       "      <td>4.142857</td>\n",
       "      <td>2.571429</td>\n",
       "    </tr>\n",
       "    <tr>\n",
       "      <th>1</th>\n",
       "      <td>E</td>\n",
       "      <td>2022.0</td>\n",
       "      <td>4.457143</td>\n",
       "      <td>7.142857</td>\n",
       "      <td>19.200000</td>\n",
       "      <td>14.992857</td>\n",
       "      <td>17.692857</td>\n",
       "      <td>16.285714</td>\n",
       "      <td>294.857143</td>\n",
       "      <td>3.642857</td>\n",
       "      <td>4.285714</td>\n",
       "    </tr>\n",
       "    <tr>\n",
       "      <th>2</th>\n",
       "      <td>X</td>\n",
       "      <td>2022.0</td>\n",
       "      <td>2.877252</td>\n",
       "      <td>5.040541</td>\n",
       "      <td>11.254505</td>\n",
       "      <td>8.780631</td>\n",
       "      <td>10.124324</td>\n",
       "      <td>30.027027</td>\n",
       "      <td>238.022523</td>\n",
       "      <td>5.047297</td>\n",
       "      <td>5.720721</td>\n",
       "    </tr>\n",
       "    <tr>\n",
       "      <th>3</th>\n",
       "      <td>Z</td>\n",
       "      <td>2022.0</td>\n",
       "      <td>3.487582</td>\n",
       "      <td>6.235294</td>\n",
       "      <td>13.578431</td>\n",
       "      <td>9.783007</td>\n",
       "      <td>11.889107</td>\n",
       "      <td>24.838780</td>\n",
       "      <td>277.663399</td>\n",
       "      <td>4.135076</td>\n",
       "      <td>4.376906</td>\n",
       "    </tr>\n",
       "  </tbody>\n",
       "</table>\n",
       "</div>"
      ],
      "text/plain": [
       "  Fuel Type  Model Year  Engine Size(L)  Cylinders  \\\n",
       "0         D      2022.0        2.964286   5.642857   \n",
       "1         E      2022.0        4.457143   7.142857   \n",
       "2         X      2022.0        2.877252   5.040541   \n",
       "3         Z      2022.0        3.487582   6.235294   \n",
       "\n",
       "   Fuel Consumption (City (L/100 km)  Fuel Consumption(Hwy (L/100 km))  \\\n",
       "0                          11.282143                          8.664286   \n",
       "1                          19.200000                         14.992857   \n",
       "2                          11.254505                          8.780631   \n",
       "3                          13.578431                          9.783007   \n",
       "\n",
       "   Fuel Consumption(Comb (L/100 km))  Fuel Consumption(Comb (mpg))  \\\n",
       "0                          10.117857                     27.928571   \n",
       "1                          17.692857                     16.285714   \n",
       "2                          10.124324                     30.027027   \n",
       "3                          11.889107                     24.838780   \n",
       "\n",
       "   CO2 Emissions(g/km)  CO2 Rating  Smog Rating  \n",
       "0           271.571429    4.142857     2.571429  \n",
       "1           294.857143    3.642857     4.285714  \n",
       "2           238.022523    5.047297     5.720721  \n",
       "3           277.663399    4.135076     4.376906  "
      ]
     },
     "execution_count": 19,
     "metadata": {},
     "output_type": "execute_result"
    }
   ],
   "source": [
    "df_fueltype = df.groupby(['Fuel Type'],as_index=False).mean()\n",
    "df_fueltype"
   ]
  },
  {
   "cell_type": "markdown",
   "id": "86383ec3",
   "metadata": {},
   "source": [
    "Fuel type:\n",
    " X = regular gasoline; Z = premium gasoline; D = diesel; E = E85; \n",
    " \n",
    "E85 gas which is made up of between 51% and 83% ethanol blended with gasoline seems to have the highest CO2 emissions and subsequently lowest CO2 rating. Its fuel consumption is also very high in both city and highway. Regular gasoline seems to be fuel efficient both in terms of consumption and emission. "
   ]
  },
  {
   "cell_type": "code",
   "execution_count": 20,
   "id": "545c67c1",
   "metadata": {},
   "outputs": [
    {
     "data": {
      "text/plain": [
       "Model Year                             1\n",
       "Make                                  39\n",
       "Model                                715\n",
       "Vehicle Class                         14\n",
       "Engine Size(L)                        36\n",
       "Cylinders                              8\n",
       "Transmission                          23\n",
       "Fuel Type                              4\n",
       "Fuel Consumption (City (L/100 km)    149\n",
       "Fuel Consumption(Hwy (L/100 km))     107\n",
       "Fuel Consumption(Comb (L/100 km))    131\n",
       "Fuel Consumption(Comb (mpg))          49\n",
       "CO2 Emissions(g/km)                  242\n",
       "CO2 Rating                            10\n",
       "Smog Rating                            5\n",
       "dtype: int64"
      ]
     },
     "execution_count": 20,
     "metadata": {},
     "output_type": "execute_result"
    }
   ],
   "source": [
    "df.nunique()"
   ]
  },
  {
   "cell_type": "code",
   "execution_count": 21,
   "id": "55847447",
   "metadata": {},
   "outputs": [],
   "source": [
    "cat_col = ['Make','Model','Vehicle Class','Cylinders','Transmission','Fuel Type','CO2 Rating','Smog Rating']\n",
    "num_col = set(df.columns) - set(cat_col)"
   ]
  },
  {
   "cell_type": "code",
   "execution_count": null,
   "id": "852e1c8d",
   "metadata": {},
   "outputs": [],
   "source": []
  },
  {
   "cell_type": "code",
   "execution_count": 22,
   "id": "fef910dd",
   "metadata": {},
   "outputs": [
    {
     "name": "stdout",
     "output_type": "stream",
     "text": [
      "Column : Make\n",
      "\n",
      "Ford             88\n",
      "Chevrolet        80\n",
      "Porsche          77\n",
      "BMW              60\n",
      "GMC              54\n",
      "Toyota           51\n",
      "Audi             45\n",
      "Mercedes-Benz    43\n",
      "Jeep             34\n",
      "Hyundai          29\n",
      "Lexus            28\n",
      "Cadillac         26\n",
      "Kia              25\n",
      "Nissan           23\n",
      "Honda            23\n",
      "Mazda            23\n",
      "Dodge            21\n",
      "MINI             20\n",
      "Subaru           19\n",
      "Volkswagen       18\n",
      "Land Rover       18\n",
      "Ram              16\n",
      "Maserati         13\n",
      "Volvo            12\n",
      "Buick             9\n",
      "Acura             8\n",
      "Lamborghini       8\n",
      "Infiniti          8\n",
      "Genesis           8\n",
      "Bentley           8\n",
      "Jaguar            8\n",
      "Lincoln           7\n",
      "Mitsubishi        7\n",
      "Rolls-Royce       7\n",
      "Alfa Romeo        6\n",
      "Chrysler          6\n",
      "Aston Martin      5\n",
      "Bugatti           3\n",
      "FIAT              1\n",
      "Name: Make, dtype: int64\n",
      "\n",
      "Column : Model\n",
      "\n",
      "Silverado 4WD Mud Terrain Tire    5\n",
      "Sierra 4WD                        5\n",
      "Silverado 4WD                     5\n",
      "Sierra 4WD Mud Terrain Tire       5\n",
      "F-150 FFV                         4\n",
      "                                 ..\n",
      "Ranger 4WD Tremor                 1\n",
      "Shelby GT500 Mustang              1\n",
      "G70 AWD                           1\n",
      "G90 AWD                           1\n",
      "XC90 T6 AWD                       1\n",
      "Name: Model, Length: 715, dtype: int64\n",
      "\n",
      "Column : Vehicle Class\n",
      "\n",
      "SUV: Small                 197\n",
      "SUV: Standard              141\n",
      "Mid-size                   117\n",
      "Pickup truck: Standard     113\n",
      "Subcompact                  79\n",
      "Compact                     69\n",
      "Full-size                   64\n",
      "Two-seater                  51\n",
      "Minicompact                 48\n",
      "Pickup truck: Small         20\n",
      "Station wagon: Small        19\n",
      "Special purpose vehicle     12\n",
      "Station wagon: Mid-size      8\n",
      "Minivan                      7\n",
      "Name: Vehicle Class, dtype: int64\n",
      "\n",
      "Column : Cylinders\n",
      "\n",
      "4     403\n",
      "6     295\n",
      "8     197\n",
      "3      21\n",
      "12     17\n",
      "10      8\n",
      "16      3\n",
      "5       1\n",
      "Name: Cylinders, dtype: int64\n",
      "\n",
      "Column : Transmission\n",
      "\n",
      "AS8     212\n",
      "A8      100\n",
      "AS10     86\n",
      "A10      72\n",
      "M6       71\n",
      "AM7      70\n",
      "A9       65\n",
      "AM8      52\n",
      "AV       43\n",
      "AS6      39\n",
      "A6       24\n",
      "AV8      23\n",
      "AS9      19\n",
      "M7       14\n",
      "AV7      10\n",
      "AM6      10\n",
      "AV6       8\n",
      "AV10      8\n",
      "AS7       7\n",
      "M5        5\n",
      "AV1       4\n",
      "AS5       2\n",
      "A7        1\n",
      "Name: Transmission, dtype: int64\n",
      "\n",
      "Column : Fuel Type\n",
      "\n",
      "Z    459\n",
      "X    444\n",
      "D     28\n",
      "E     14\n",
      "Name: Fuel Type, dtype: int64\n",
      "\n",
      "Column : CO2 Rating\n",
      "\n",
      "5.0     276\n",
      "4.0     224\n",
      "3.0     185\n",
      "6.0     113\n",
      "7.0      70\n",
      "2.0      47\n",
      "9.0      13\n",
      "8.0      10\n",
      "1.0       6\n",
      "10.0      1\n",
      "Name: CO2 Rating, dtype: int64\n",
      "\n",
      "Column : Smog Rating\n",
      "\n",
      "5.0    318\n",
      "3.0    194\n",
      "7.0    191\n",
      "6.0    186\n",
      "1.0     56\n",
      "Name: Smog Rating, dtype: int64\n",
      "\n"
     ]
    }
   ],
   "source": [
    "for i in cat_col:\n",
    "    print(f'Column : {i}')\n",
    "    print()\n",
    "    print(df[i].value_counts())\n",
    "    print()"
   ]
  },
  {
   "cell_type": "markdown",
   "id": "2a0419cf",
   "metadata": {},
   "source": [
    "## Univariate Analysis"
   ]
  },
  {
   "cell_type": "code",
   "execution_count": 23,
   "id": "7ec460a9",
   "metadata": {
    "scrolled": true
   },
   "outputs": [
    {
     "data": {
      "image/png": "[encoded data removed]",
      "text/plain": [
       "<Figure size 432x288 with 1 Axes>"
      ]
     },
     "metadata": {
      "needs_background": "light"
     },
     "output_type": "display_data"
    },
    {
     "data": {
      "image/png": "[encoded data removed]",
      "text/plain": [
       "<Figure size 432x288 with 1 Axes>"
      ]
     },
     "metadata": {
      "needs_background": "light"
     },
     "output_type": "display_data"
    },
    {
     "data": {
      "image/png": "[encoded data removed]",
      "text/plain": [
       "<Figure size 432x288 with 1 Axes>"
      ]
     },
     "metadata": {
      "needs_background": "light"
     },
     "output_type": "display_data"
    },
    {
     "data": {
      "image/png": "[encoded data removed]",
      "text/plain": [
       "<Figure size 432x288 with 1 Axes>"
      ]
     },
     "metadata": {
      "needs_background": "light"
     },
     "output_type": "display_data"
    },
    {
     "data": {
      "image/png": "[encoded data removed]",
      "text/plain": [
       "<Figure size 432x288 with 1 Axes>"
      ]
     },
     "metadata": {
      "needs_background": "light"
     },
     "output_type": "display_data"
    },
    {
     "data": {
      "image/png": "[encoded data removed]",
      "text/plain": [
       "<Figure size 432x288 with 1 Axes>"
      ]
     },
     "metadata": {
      "needs_background": "light"
     },
     "output_type": "display_data"
    }
   ],
   "source": [
    "list1 = ['Cylinders','Transmission','Vehicle Class','Smog Rating','CO2 Rating','Fuel Type']\n",
    "for i in list1:\n",
    "    plt.show()\n",
    "    sns.countplot(x=df[i])"
   ]
  },
  {
   "cell_type": "code",
   "execution_count": 24,
   "id": "156737c7",
   "metadata": {},
   "outputs": [
    {
     "name": "stderr",
     "output_type": "stream",
     "text": [
      "D:\\DS\\ANACONDA\\lib\\site-packages\\seaborn\\distributions.py:2619: FutureWarning: `distplot` is a deprecated function and will be removed in a future version. Please adapt your code to use either `displot` (a figure-level function with similar flexibility) or `histplot` (an axes-level function for histograms).\n",
      "  warnings.warn(msg, FutureWarning)\n",
      "D:\\DS\\ANACONDA\\lib\\site-packages\\seaborn\\distributions.py:316: UserWarning: Dataset has 0 variance; skipping density estimate. Pass `warn_singular=False` to disable this warning.\n",
      "  warnings.warn(msg, UserWarning)\n"
     ]
    },
    {
     "data": {
      "image/png": "[encoded data removed]",
      "text/plain": [
       "<Figure size 432x288 with 1 Axes>"
      ]
     },
     "metadata": {
      "needs_background": "light"
     },
     "output_type": "display_data"
    },
    {
     "name": "stderr",
     "output_type": "stream",
     "text": [
      "D:\\DS\\ANACONDA\\lib\\site-packages\\seaborn\\distributions.py:2619: FutureWarning: `distplot` is a deprecated function and will be removed in a future version. Please adapt your code to use either `displot` (a figure-level function with similar flexibility) or `histplot` (an axes-level function for histograms).\n",
      "  warnings.warn(msg, FutureWarning)\n"
     ]
    },
    {
     "data": {
      "image/png": "[encoded data removed]",
      "text/plain": [
       "<Figure size 432x288 with 1 Axes>"
      ]
     },
     "metadata": {
      "needs_background": "light"
     },
     "output_type": "display_data"
    },
    {
     "name": "stderr",
     "output_type": "stream",
     "text": [
      "D:\\DS\\ANACONDA\\lib\\site-packages\\seaborn\\distributions.py:2619: FutureWarning: `distplot` is a deprecated function and will be removed in a future version. Please adapt your code to use either `displot` (a figure-level function with similar flexibility) or `histplot` (an axes-level function for histograms).\n",
      "  warnings.warn(msg, FutureWarning)\n"
     ]
    },
    {
     "data": {
      "image/png": "[encoded data removed]",
      "text/plain": [
       "<Figure size 432x288 with 1 Axes>"
      ]
     },
     "metadata": {
      "needs_background": "light"
     },
     "output_type": "display_data"
    },
    {
     "name": "stderr",
     "output_type": "stream",
     "text": [
      "D:\\DS\\ANACONDA\\lib\\site-packages\\seaborn\\distributions.py:2619: FutureWarning: `distplot` is a deprecated function and will be removed in a future version. Please adapt your code to use either `displot` (a figure-level function with similar flexibility) or `histplot` (an axes-level function for histograms).\n",
      "  warnings.warn(msg, FutureWarning)\n"
     ]
    },
    {
     "data": {
      "image/png": "[encoded data removed]",
      "text/plain": [
       "<Figure size 432x288 with 1 Axes>"
      ]
     },
     "metadata": {
      "needs_background": "light"
     },
     "output_type": "display_data"
    },
    {
     "name": "stderr",
     "output_type": "stream",
     "text": [
      "D:\\DS\\ANACONDA\\lib\\site-packages\\seaborn\\distributions.py:2619: FutureWarning: `distplot` is a deprecated function and will be removed in a future version. Please adapt your code to use either `displot` (a figure-level function with similar flexibility) or `histplot` (an axes-level function for histograms).\n",
      "  warnings.warn(msg, FutureWarning)\n"
     ]
    },
    {
     "data": {
      "image/png": "[encoded data removed]",
      "text/plain": [
       "<Figure size 432x288 with 1 Axes>"
      ]
     },
     "metadata": {
      "needs_background": "light"
     },
     "output_type": "display_data"
    },
    {
     "name": "stderr",
     "output_type": "stream",
     "text": [
      "D:\\DS\\ANACONDA\\lib\\site-packages\\seaborn\\distributions.py:2619: FutureWarning: `distplot` is a deprecated function and will be removed in a future version. Please adapt your code to use either `displot` (a figure-level function with similar flexibility) or `histplot` (an axes-level function for histograms).\n",
      "  warnings.warn(msg, FutureWarning)\n"
     ]
    },
    {
     "data": {
      "image/png": "[encoded data removed]",
      "text/plain": [
       "<Figure size 432x288 with 1 Axes>"
      ]
     },
     "metadata": {
      "needs_background": "light"
     },
     "output_type": "display_data"
    },
    {
     "name": "stderr",
     "output_type": "stream",
     "text": [
      "D:\\DS\\ANACONDA\\lib\\site-packages\\seaborn\\distributions.py:2619: FutureWarning: `distplot` is a deprecated function and will be removed in a future version. Please adapt your code to use either `displot` (a figure-level function with similar flexibility) or `histplot` (an axes-level function for histograms).\n",
      "  warnings.warn(msg, FutureWarning)\n"
     ]
    },
    {
     "data": {
      "image/png": "[encoded data removed]",
      "text/plain": [
       "<Figure size 432x288 with 1 Axes>"
      ]
     },
     "metadata": {
      "needs_background": "light"
     },
     "output_type": "display_data"
    }
   ],
   "source": [
    "for i in num_col:\n",
    "    sns.distplot(df[i],label=f'{i}')\n",
    "    plt.show()"
   ]
  },
  {
   "cell_type": "code",
   "execution_count": 25,
   "id": "ad225ab4",
   "metadata": {},
   "outputs": [
    {
     "data": {
      "image/png": "[encoded data removed]",
      "text/plain": [
       "<Figure size 432x288 with 1 Axes>"
      ]
     },
     "metadata": {
      "needs_background": "light"
     },
     "output_type": "display_data"
    }
   ],
   "source": [
    "plt.scatter(df['Engine Size(L)'], df['CO2 Emissions(g/km)'])\n",
    "plt.xlabel(\"Engine Size(L)\")\n",
    "plt.ylabel(\"CO2 Emissions(g/km)\")\n",
    "plt.show()"
   ]
  },
  {
   "cell_type": "code",
   "execution_count": 26,
   "id": "fd04227a",
   "metadata": {},
   "outputs": [
    {
     "data": {
      "image/png": "[encoded data removed]",
      "text/plain": [
       "<Figure size 432x288 with 1 Axes>"
      ]
     },
     "metadata": {
      "needs_background": "light"
     },
     "output_type": "display_data"
    }
   ],
   "source": [
    "plt.scatter(df['Engine Size(L)'], df['Fuel Consumption(Comb (L/100 km))'])\n",
    "plt.xlabel(\"Engine Size(L)\")\n",
    "plt.ylabel(\"Fuel Consumption(Comb)\")\n",
    "plt.show()"
   ]
  },
  {
   "cell_type": "code",
   "execution_count": 27,
   "id": "2da579fa",
   "metadata": {},
   "outputs": [
    {
     "data": {
      "image/png": "[encoded data removed]",
      "text/plain": [
       "<Figure size 432x288 with 4 Axes>"
      ]
     },
     "metadata": {
      "needs_background": "light"
     },
     "output_type": "display_data"
    }
   ],
   "source": [
    "viz = df[['Cylinders','Engine Size(L)','CO2 Emissions(g/km)','Fuel Consumption(Comb (L/100 km))']]\n",
    "viz.hist()\n",
    "plt.show()"
   ]
  },
  {
   "cell_type": "code",
   "execution_count": 28,
   "id": "89a837c4",
   "metadata": {},
   "outputs": [
    {
     "data": {
      "image/png": "[encoded data removed]",
      "text/plain": [
       "<Figure size 1440x360 with 1 Axes>"
      ]
     },
     "metadata": {
      "needs_background": "light"
     },
     "output_type": "display_data"
    }
   ],
   "source": [
    "df['Vehicle Class'].value_counts().sort_values(ascending=False).iloc[0:9].plot(kind='bar',rot=0,figsize=(20,5),color='green',title='Top 10 Vehicle Classes');"
   ]
  },
  {
   "cell_type": "code",
   "execution_count": 29,
   "id": "516aa61a",
   "metadata": {},
   "outputs": [
    {
     "data": {
      "image/png": "[encoded data removed]",
      "text/plain": [
       "<Figure size 1440x360 with 1 Axes>"
      ]
     },
     "metadata": {
      "needs_background": "light"
     },
     "output_type": "display_data"
    }
   ],
   "source": [
    "df['Make'].value_counts().sort_values(ascending=False).iloc[0:9].plot(kind='bar',figsize=(20,5),rot=0,title = 'Top 10 Cars');"
   ]
  },
  {
   "cell_type": "markdown",
   "id": "abdc249d",
   "metadata": {},
   "source": [
    "## Multivariate Analysis"
   ]
  },
  {
   "cell_type": "markdown",
   "id": "7d66b787",
   "metadata": {},
   "source": [
    "### Pair Plot"
   ]
  },
  {
   "cell_type": "code",
   "execution_count": null,
   "id": "a891db91",
   "metadata": {},
   "outputs": [],
   "source": [
    "sns.pairplot(df,diag_kind='kde')"
   ]
  },
  {
   "cell_type": "markdown",
   "id": "ab2b9476",
   "metadata": {},
   "source": [
    "### Heat Map"
   ]
  },
  {
   "cell_type": "code",
   "execution_count": null,
   "id": "f45df01e",
   "metadata": {},
   "outputs": [],
   "source": [
    "plt.figure(figsize=(12,8))\n",
    "sns.heatmap(df.corr(), cmap=\"YlGnBu\", annot = True);"
   ]
  },
  {
   "cell_type": "markdown",
   "id": "7dbbfad9",
   "metadata": {},
   "source": [
    "### **Box Plots**\n",
    "A box plot is a way of statistically representing the distribution of the data through five main dimensions:\n",
    "* Minimun: Smallest number in the dataset.\n",
    "* First quartile: Middle number between the minimum and the median.\n",
    "* Second quartile (Median): Middle number of the (sorted) dataset.\n",
    "* Third quartile: Middle number between median and maximum.\n",
    "* Maximum: Highest number in the dataset.\n"
   ]
  },
  {
   "cell_type": "code",
   "execution_count": null,
   "id": "4ff4469e",
   "metadata": {},
   "outputs": [],
   "source": [
    "plt.figure(figsize=(20,7))\n",
    "plt.xticks(rotation=90)\n",
    "sns.boxplot(x=\"Vehicle Class\", y=\"CO2 Emissions(g/km)\", data=df,showmeans=True);"
   ]
  },
  {
   "cell_type": "code",
   "execution_count": null,
   "id": "338b494e",
   "metadata": {},
   "outputs": [],
   "source": [
    "plt.figure(figsize=(20,7))\n",
    "plt.xticks(rotation=90)\n",
    "sns.boxplot(x=\"Vehicle Class\", y=\"Fuel Consumption(Comb (L/100 km))\", data=df,showmeans=True);"
   ]
  },
  {
   "cell_type": "code",
   "execution_count": null,
   "id": "9c1bfa02",
   "metadata": {},
   "outputs": [],
   "source": [
    "plt.figure(figsize=(20,7))\n",
    "sns.boxplot(x=\"Cylinders\", y=\"CO2 Emissions(g/km)\", data=df,showmeans=True);"
   ]
  },
  {
   "cell_type": "code",
   "execution_count": null,
   "id": "3784560e",
   "metadata": {},
   "outputs": [],
   "source": [
    "plt.figure(figsize=(20,7))\n",
    "sns.boxplot(x=\"Fuel Type\", y=\"CO2 Emissions(g/km)\", data=df,showmeans=True);"
   ]
  },
  {
   "cell_type": "markdown",
   "id": "7e85f896",
   "metadata": {},
   "source": [
    "### Chi-Square Test of Independence"
   ]
  },
  {
   "cell_type": "markdown",
   "id": "ee8aadd8",
   "metadata": {},
   "source": [
    "A Chi-Square Test of Independence is used to determine whether or not there is a significant association between two categorical variables."
   ]
  },
  {
   "attachments": {
    "download.png": {
     "image/png": "[encoded data removed]"
    }
   },
   "cell_type": "markdown",
   "id": "71180bb6",
   "metadata": {},
   "source": [
    "![download.png](attachment:download.png)"
   ]
  },
  {
   "cell_type": "markdown",
   "id": "5c459f37",
   "metadata": {},
   "source": [
    "**P-value:**\n",
    "\n",
    "In statistical analysis P-value is used to know the significance of the correlation estimate.The P-value is the probability value that the correlation between these two variables is statistically significant. Normally, we choose a significance level of 0.05, which means that we are 95% confident that the correlation between the variables is significant.\n",
    "By convention, when the\n",
    "* p-value is $<$ 0.001: we say there is strong evidence that the correlation is significant.\n",
    "* p-value is $<$ 0.05: there is moderate evidence that the correlation is significant.\n",
    "* p-value is $<$ 0.1: there is weak evidence that the correlation is significant.\n",
    "* p-value is $>$ 0.1: there is no evidence that the correlation is significant.\n",
    "\n",
    "This information is obtained using \"stats\" module in the \"scipy\" library."
   ]
  },
  {
   "cell_type": "markdown",
   "id": "c32dd134",
   "metadata": {},
   "source": [
    "#### Relationship between Vehicle Class and Transmission"
   ]
  },
  {
   "cell_type": "code",
   "execution_count": null,
   "id": "b31058ef",
   "metadata": {},
   "outputs": [],
   "source": [
    "dataset_table1 = pd.crosstab(df['Vehicle Class'],df['Transmission'])\n",
    "dataset_table1"
   ]
  },
  {
   "cell_type": "code",
   "execution_count": null,
   "id": "dd24b50a",
   "metadata": {},
   "outputs": [],
   "source": [
    "observed_values = dataset_table1.values\n",
    "val=stats.chi2_contingency(dataset_table1)\n",
    "expected_values = val[3]"
   ]
  },
  {
   "cell_type": "code",
   "execution_count": null,
   "id": "7fa0bf57",
   "metadata": {},
   "outputs": [],
   "source": [
    "no_of_rows=14\n",
    "no_of_columns=23\n",
    "ddof=(no_of_rows-1)*(no_of_columns-1)\n",
    "print(\"Degree of Freedom:\",ddof)\n",
    "alpha = 0.05"
   ]
  },
  {
   "cell_type": "code",
   "execution_count": null,
   "id": "9c15e734",
   "metadata": {},
   "outputs": [],
   "source": [
    "chi_square=sum([(o-e)**2/e for o,e in zip(observed_values,expected_values)])\n",
    "chi_square_statistic = chi_square.sum()\n",
    "chi_square_statistic"
   ]
  },
  {
   "cell_type": "code",
   "execution_count": null,
   "id": "17cf6f2b",
   "metadata": {},
   "outputs": [],
   "source": [
    "#p-value\n",
    "p_value = 1 - stats.chi2.cdf(x=chi_square_statistic,df=ddof)\n",
    "\n",
    "print('p-value:',p_value)\n",
    "print('Significance level: ',alpha)\n",
    "print('Degree of Freedom: ',ddof)"
   ]
  },
  {
   "cell_type": "code",
   "execution_count": null,
   "id": "8e1ebb3e",
   "metadata": {},
   "outputs": [],
   "source": [
    "if p_value<=alpha:\n",
    "    print(\"Reject H0,There is a relationship between 2 categorical variables\")  # H0 - Null Hypothesis\n",
    "else:\n",
    "    print(\"Retain H0,There is no relationship between 2 categorical variables\")"
   ]
  },
  {
   "cell_type": "markdown",
   "id": "ace4afd2",
   "metadata": {},
   "source": [
    "#### Relationship between Fuel Type and Transmission"
   ]
  },
  {
   "cell_type": "code",
   "execution_count": null,
   "id": "fd0ce1b1",
   "metadata": {},
   "outputs": [],
   "source": [
    "dataset_table2 = pd.crosstab(df['Fuel Type'],df['Transmission'])\n",
    "observed_values = dataset_table2.values\n",
    "val=stats.chi2_contingency(dataset_table2)\n",
    "expected_values = val[3]"
   ]
  },
  {
   "cell_type": "code",
   "execution_count": null,
   "id": "e3174e53",
   "metadata": {},
   "outputs": [],
   "source": [
    "no_of_rows=4\n",
    "no_of_columns=23\n",
    "ddof=(no_of_rows-1)*(no_of_columns-1)\n",
    "print(\"Degree of Freedom:\",ddof)\n",
    "alpha = 0.05"
   ]
  },
  {
   "cell_type": "code",
   "execution_count": null,
   "id": "ef7ff221",
   "metadata": {},
   "outputs": [],
   "source": [
    "chi_square=sum([(o-e)**2/e for o,e in zip(observed_values,expected_values)])\n",
    "chi_square_statistic = chi_square.sum()\n",
    "chi_square_statistic"
   ]
  },
  {
   "cell_type": "code",
   "execution_count": null,
   "id": "eca95e47",
   "metadata": {},
   "outputs": [],
   "source": [
    "#p-value\n",
    "p_value = 1 - stats.chi2.cdf(x=chi_square_statistic,df=ddof)\n",
    "\n",
    "print('p-value:',p_value)\n",
    "print('Significance level: ',alpha)\n",
    "print('Degree of Freedom: ',ddof)"
   ]
  },
  {
   "cell_type": "code",
   "execution_count": null,
   "id": "562fa5fb",
   "metadata": {},
   "outputs": [],
   "source": [
    "if p_value<=alpha:\n",
    "    print(\"Reject H0,There is a relationship between 2 categorical variables\")\n",
    "else:\n",
    "    print(\"Retain H0,There is no relationship between 2 categorical variables\")"
   ]
  },
  {
   "cell_type": "markdown",
   "id": "9e59a067",
   "metadata": {},
   "source": [
    "### **Conclusion:** \n",
    "\n",
    "Since the p-value is < 0.001, all inter correlations between Vehicle Class, Transmission and Fuel Types are statistically significant, and their linear relationship are also extremely strong (>0.80)"
   ]
  },
  {
   "cell_type": "code",
   "execution_count": null,
   "id": "ad55b76e",
   "metadata": {},
   "outputs": [],
   "source": []
  },
  {
   "cell_type": "markdown",
   "id": "69b4caa7",
   "metadata": {},
   "source": [
    "Dropping ‘Fuel Consumption (City (L/100 km)’, 'Fuel Consumption (Hwy (L/100 km))', 'Fuel Consumption (Comb (mpg))', and any unnecessary columns"
   ]
  },
  {
   "cell_type": "code",
   "execution_count": null,
   "id": "dde5b525",
   "metadata": {},
   "outputs": [],
   "source": [
    "df.drop(['Fuel Consumption (City (L/100 km)', 'Fuel Consumption(Hwy (L/100 km))','Fuel Consumption(Comb (mpg))','Model Year'],axis=1)"
   ]
  },
  {
   "cell_type": "markdown",
   "id": "7b807104",
   "metadata": {},
   "source": [
    "#### Encode categorical variables"
   ]
  },
  {
   "cell_type": "code",
   "execution_count": null,
   "id": "47f3ef35",
   "metadata": {},
   "outputs": [],
   "source": [
    "z = df[['Vehicle Class', 'Transmission', 'Fuel Type']]\n",
    "\n",
    "from sklearn.preprocessing import OrdinalEncoder\n",
    "enc = OrdinalEncoder()\n",
    "z = enc.fit_transform(z)\n",
    "df[['Vehicle Class', 'Transmission', 'Fuel Type']] = pd.DataFrame(z)"
   ]
  },
  {
   "cell_type": "markdown",
   "id": "f56a4cfd",
   "metadata": {},
   "source": [
    "#### Split into train and test set and Scale the variables"
   ]
  },
  {
   "cell_type": "code",
   "execution_count": null,
   "id": "ce6dfc50",
   "metadata": {},
   "outputs": [],
   "source": [
    "X = df[['Engine Size(L)', 'Transmission', 'CO2 Emissions(g/km)', 'Smog Rating']]\n",
    "y = df['Fuel Consumption(Comb (L/100 km))']"
   ]
  },
  {
   "cell_type": "code",
   "execution_count": null,
   "id": "99340f7c",
   "metadata": {},
   "outputs": [],
   "source": [
    "from sklearn.model_selection import train_test_split\n",
    "X_train, X_test, y_train, y_test = train_test_split( X, y, test_size=0.2, random_state=4)"
   ]
  },
  {
   "cell_type": "markdown",
   "id": "c66910e7",
   "metadata": {},
   "source": [
    "### Linear Regression Model"
   ]
  },
  {
   "cell_type": "code",
   "execution_count": null,
   "id": "a3b26d5b",
   "metadata": {},
   "outputs": [],
   "source": [
    "from sklearn import linear_model\n",
    "mlm = linear_model.LinearRegression()\n",
    "mlm.fit (X_train, y_train)\n"
   ]
  },
  {
   "cell_type": "code",
   "execution_count": null,
   "id": "aa44034d",
   "metadata": {},
   "outputs": [],
   "source": [
    "Yhat_mlm = mlm.predict(X_test)\n",
    "k = X_test.shape[1]\n",
    "n = len(X_test)"
   ]
  },
  {
   "cell_type": "code",
   "execution_count": null,
   "id": "1cec0dc4",
   "metadata": {},
   "outputs": [],
   "source": [
    "from sklearn import metrics\n",
    "from sklearn.metrics import mean_squared_error,mean_absolute_error,explained_variance_score, r2_score\n",
    "print('Mean Absolute Error(MAE) of Multiple Linear regression:', metrics.mean_absolute_error(y_test, Yhat_mlm))\n",
    "print('Mean Squared Error(MSE) of Multiple Linear regression:', metrics.mean_squared_error(y_test, Yhat_mlm))\n",
    "print('Root Mean Squared Error (RMSE) of Multiple Linear regression:', np.sqrt(metrics.mean_squared_error(y_test, Yhat_mlm)))"
   ]
  },
  {
   "cell_type": "code",
   "execution_count": null,
   "id": "59f3b161",
   "metadata": {},
   "outputs": [],
   "source": [
    "# Explained variance score: 1 is perfect prediction\n",
    "print('Variance score of Multiple Linear regression: %.2f' % mlm.score(X_train, y_train))\n",
    "print('Explained Variance Score (EVS) of Multiple Linear regression:',explained_variance_score(y_test, Yhat_mlm))"
   ]
  },
  {
   "cell_type": "code",
   "execution_count": null,
   "id": "b6ad4c9e",
   "metadata": {},
   "outputs": [],
   "source": [
    "#Residual sum of squares (rss)\n",
    "print(\"Residual sum of squares of Multiple Linear regression: %.2f\" % np.mean((Yhat_mlm - y_test) ** 2))\n",
    "print('R2 of Multiple Linear regression:',metrics.r2_score(y_test, Yhat_mlm))\n",
    "print('R2 rounded of Multiple Linear regression:',(metrics.r2_score(y_test, Yhat_mlm)).round(2))\n",
    "r2 = r2_score(y_test, Yhat_mlm)\n",
    "r2_rounded = r2_score(y_test, Yhat_mlm).round(2)\n",
    "adjusted_r2 = (1- (1-r2)*(n-1)/(n-k-1)).round(3)\n",
    "print('Adjusted_r2 of Multiple Linear regression: ', (1- (1-r2)*(n-1)/(n-k-1)).round(3))\n",
    "accuracy = mlm.score(X_test, y_test)\n",
    "print(\"Accuracy of Multiple Linear regression: {}\".format(accuracy))"
   ]
  },
  {
   "cell_type": "markdown",
   "id": "10b8fa0a",
   "metadata": {},
   "source": [
    "### Decision Tree Regression Model"
   ]
  },
  {
   "cell_type": "code",
   "execution_count": null,
   "id": "2e41d791",
   "metadata": {},
   "outputs": [],
   "source": [
    "from sklearn.tree import DecisionTreeRegressor\n",
    "DTR = DecisionTreeRegressor()"
   ]
  },
  {
   "cell_type": "code",
   "execution_count": null,
   "id": "2e495da5",
   "metadata": {},
   "outputs": [],
   "source": [
    "DTR.fit (X_train, y_train)\n",
    "Yhat_DTR = DTR.predict(X_test)\n",
    "\n",
    "k = X_test.shape[1]\n",
    "n = len(X_test)"
   ]
  },
  {
   "cell_type": "code",
   "execution_count": null,
   "id": "0ae68f90",
   "metadata": {},
   "outputs": [],
   "source": [
    "from sklearn import metrics\n",
    "from sklearn.metrics import mean_squared_error,mean_absolute_error,explained_variance_score, r2_score\n",
    "print('Mean Absolute Error(MAE) of Decision Tree regression:', metrics.mean_absolute_error(y_test, Yhat_DTR))\n",
    "print('Mean Squared Error(MSE) of Decision Tree regression:', metrics.mean_squared_error(y_test, Yhat_DTR))\n",
    "print('Root Mean Squared Error (RMSE) of Decision Tree regression:', np.sqrt(metrics.mean_squared_error(y_test, Yhat_DTR)))"
   ]
  },
  {
   "cell_type": "code",
   "execution_count": null,
   "id": "d4181353",
   "metadata": {},
   "outputs": [],
   "source": [
    "# Explained variance score: 1 is perfect prediction\n",
    "print('Variance score of Decision Tree regression: %.2f' % DTR.score(X_train, y_train))\n",
    "print('Explained Variance Score (EVS) of Decision Tree regression:',explained_variance_score(y_test, Yhat_DTR))"
   ]
  },
  {
   "cell_type": "code",
   "execution_count": null,
   "id": "84c09eea",
   "metadata": {},
   "outputs": [],
   "source": [
    "#Residual sum of squares (rss)\n",
    "print(\"Residual sum of squares of Decision Tree regression: %.2f\" % np.mean((Yhat_DTR - y_test) ** 2))\n",
    "print('R2 of Decision Tree regression:',metrics.r2_score(y_test, Yhat_DTR))\n",
    "print('R2 rounded of Decision Tree regression:',(metrics.r2_score(y_test, Yhat_DTR)).round(2))\n",
    "r2 = r2_score(y_test, Yhat_DTR)\n",
    "r2_rounded = r2_score(y_test, Yhat_DTR).round(2)\n",
    "adjusted_r2 = (1- (1-r2)*(n-1)/(n-k-1)).round(3)\n",
    "print('Adjusted_r2 of Decision Tree regression: ', (1- (1-r2)*(n-1)/(n-k-1)).round(3))\n",
    "accuracy = DTR.score(X_test, y_test)\n",
    "print(\"Accuracy of Decision Tree regression: {}\".format(accuracy))"
   ]
  },
  {
   "cell_type": "markdown",
   "id": "d0c46fbc",
   "metadata": {},
   "source": [
    "### Random Forest Regression Model"
   ]
  },
  {
   "cell_type": "code",
   "execution_count": null,
   "id": "f1e6dc57",
   "metadata": {},
   "outputs": [],
   "source": [
    "from sklearn.ensemble import RandomForestRegressor\n",
    "RFR = RandomForestRegressor()"
   ]
  },
  {
   "cell_type": "code",
   "execution_count": null,
   "id": "05f642af",
   "metadata": {},
   "outputs": [],
   "source": [
    "RFR.fit (X_train, y_train)\n",
    "Yhat_RFR = RFR.predict(X_test)\n",
    "\n",
    "k = X_test.shape[1]\n",
    "n = len(X_test)"
   ]
  },
  {
   "cell_type": "code",
   "execution_count": null,
   "id": "dfccb5d5",
   "metadata": {},
   "outputs": [],
   "source": [
    "from sklearn import metrics\n",
    "from sklearn.metrics import mean_squared_error,mean_absolute_error,explained_variance_score, r2_score\n",
    "print('Mean Absolute Error(MAE) of Random Forest regression:', metrics.mean_absolute_error(y_test, Yhat_RFR))\n",
    "print('Mean Squared Error(MSE) of Random Forest regression:', metrics.mean_squared_error(y_test, Yhat_RFR))\n",
    "print('Root Mean Squared Error (RMSE) of Random Forest regression:', np.sqrt(metrics.mean_squared_error(y_test, Yhat_RFR)))"
   ]
  },
  {
   "cell_type": "code",
   "execution_count": null,
   "id": "fdc89012",
   "metadata": {},
   "outputs": [],
   "source": [
    "# Explained variance score: 1 is perfect prediction\n",
    "print('Variance score of Random Forest regression: %.2f' % RFR.score(X_train, y_train))\n",
    "print('Explained Variance Score (EVS) of Random Forest regression:',explained_variance_score(y_test, Yhat_RFR))"
   ]
  },
  {
   "cell_type": "code",
   "execution_count": null,
   "id": "4199d80a",
   "metadata": {},
   "outputs": [],
   "source": [
    "#Residual sum of squares (rss)\n",
    "print(\"Residual sum of squares of Random Forest regression: %.2f\" % np.mean((Yhat_RFR - y_test) ** 2))\n",
    "print('R2 of Random Forest regression:',metrics.r2_score(y_test, Yhat_RFR))\n",
    "print('R2 rounded of Random Forest regression:',(metrics.r2_score(y_test, Yhat_RFR)).round(2))\n",
    "r2 = r2_score(y_test, Yhat_RFR)\n",
    "r2_rounded = r2_score(y_test, Yhat_RFR).round(2)\n",
    "adjusted_r2 = (1- (1-r2)*(n-1)/(n-k-1)).round(3)\n",
    "print('Adjusted_r2 of Random Forest regression: ', (1- (1-r2)*(n-1)/(n-k-1)).round(3))\n",
    "accuracy = RFR.score(X_test, y_test)\n",
    "print(\"Accuracy of Random Forest regression: {}\".format(accuracy))"
   ]
  },
  {
   "cell_type": "markdown",
   "id": "a551c32b",
   "metadata": {},
   "source": [
    "### Support Vector Regression Model"
   ]
  },
  {
   "cell_type": "code",
   "execution_count": null,
   "id": "1ee51575",
   "metadata": {},
   "outputs": [],
   "source": [
    "from sklearn.svm import SVR\n",
    "SVR = SVR()"
   ]
  },
  {
   "cell_type": "code",
   "execution_count": null,
   "id": "8bdf9dbf",
   "metadata": {},
   "outputs": [],
   "source": [
    "SVR.fit (X_train, y_train)\n",
    "Yhat_SVR = SVR.predict(X_test)\n",
    "\n",
    "k = X_test.shape[1]\n",
    "n = len(X_test)\n"
   ]
  },
  {
   "cell_type": "code",
   "execution_count": null,
   "id": "7c677430",
   "metadata": {},
   "outputs": [],
   "source": [
    "from sklearn import metrics\n",
    "from sklearn.metrics import mean_squared_error,mean_absolute_error,explained_variance_score, r2_score\n",
    "print('Mean Absolute Error(MAE) of Support Vector regression:', metrics.mean_absolute_error(y_test, Yhat_SVR))\n",
    "print('Mean Squared Error(MSE) of Support Vector regression:', metrics.mean_squared_error(y_test, Yhat_SVR))\n",
    "print('Root Mean Squared Error (RMSE) of Support Vector regression:', np.sqrt(metrics.mean_squared_error(y_test, Yhat_SVR)))"
   ]
  },
  {
   "cell_type": "code",
   "execution_count": null,
   "id": "8cb870d7",
   "metadata": {},
   "outputs": [],
   "source": [
    "# Explained variance score: 1 is perfect prediction\n",
    "print('Variance score of Support Vector regression: %.2f' % SVR.score(X_train, y_train))\n",
    "print('Explained Variance Score (EVS) of Support Vector regression:',explained_variance_score(y_test, Yhat_SVR))"
   ]
  },
  {
   "cell_type": "code",
   "execution_count": null,
   "id": "249f1d7b",
   "metadata": {},
   "outputs": [],
   "source": [
    "#Residual sum of squares (rss)\n",
    "print(\"Residual sum of squares of Support Vector regression: %.2f\" % np.mean((Yhat_SVR - y_test) ** 2))\n",
    "print('R2 of Support Vector regression:',metrics.r2_score(y_test, Yhat_SVR))\n",
    "print('R2 rounded of Support Vector regression:',(metrics.r2_score(y_test, Yhat_SVR)).round(2))\n",
    "r2 = r2_score(y_test, Yhat_SVR)\n",
    "r2_rounded = r2_score(y_test, Yhat_SVR).round(2)\n",
    "adjusted_r2 = (1- (1-r2)*(n-1)/(n-k-1)).round(3)\n",
    "print('Adjusted_r2 of Support Vector regression: ', (1- (1-r2)*(n-1)/(n-k-1)).round(3))\n",
    "accuracy = SVR.score(X_test, y_test)\n",
    "print(\"Accuracy of Support Vector regression: {}\".format(accuracy))"
   ]
  },
  {
   "cell_type": "markdown",
   "id": "3ca478d3",
   "metadata": {},
   "source": [
    "### Checking their performance, and comment on which is the best model"
   ]
  },
  {
   "cell_type": "code",
   "execution_count": null,
   "id": "b5e2e2d7",
   "metadata": {},
   "outputs": [],
   "source": [
    "from sklearn.linear_model import LinearRegression\n",
    "from sklearn.tree import DecisionTreeRegressor\n",
    "from sklearn.ensemble import RandomForestRegressor\n",
    "from sklearn.svm import SVR"
   ]
  },
  {
   "cell_type": "code",
   "execution_count": null,
   "id": "8cae7b6d",
   "metadata": {},
   "outputs": [],
   "source": [
    "Models=[(\"Linear Regression\",LinearRegression()),\n",
    "         (\"Decision Tree\",DecisionTreeRegressor()),\n",
    "         (\"Random Forest\",RandomForestRegressor()),\n",
    "        (\"SVR\",SVR ())]\n",
    "Model_output=[]\n",
    "for name,model in Models:\n",
    "    yhat=model.fit(X_train, y_train).predict(X_test)\n",
    "    MAE = metrics.mean_absolute_error(y_test, yhat)\n",
    "    MSE = metrics.mean_squared_error(y_test, yhat)\n",
    "    RMSE = np.sqrt(metrics.mean_squared_error(y_test, yhat))\n",
    "    Variance_score = model.score(X_train, y_train)\n",
    "    Explained_Variance_score= explained_variance_score(y_test, yhat)\n",
    "    R2_score = r2_score(y_test, yhat)\n",
    "    Train_set_MAE = metrics.mean_absolute_error(y_train, model.predict(X_train))\n",
    "    Model_output.append((name, Train_set_MAE, MAE,MSE,RMSE, Variance_score, Explained_Variance_score,R2_score))\n",
    "    final_Report=pd.DataFrame(Model_output, columns=['Algorithm','Train_set_MAE', 'MAE', 'MSE', 'RMSE', 'Variance_score', 'Explained_Variance_score','R2 score'])"
   ]
  },
  {
   "cell_type": "code",
   "execution_count": null,
   "id": "24c895bb",
   "metadata": {},
   "outputs": [],
   "source": [
    "final_Report"
   ]
  },
  {
   "cell_type": "markdown",
   "id": "1ca795de",
   "metadata": {},
   "source": [
    "#### Compulsory\n",
    "##### Use grid search CV to tune the hyperparameter of the best model"
   ]
  },
  {
   "cell_type": "code",
   "execution_count": null,
   "id": "628350df",
   "metadata": {},
   "outputs": [],
   "source": [
    "from sklearn.ensemble import RandomForestRegressor\n",
    "RFR = RandomForestRegressor()# Best model Random Forest"
   ]
  },
  {
   "cell_type": "code",
   "execution_count": null,
   "id": "7232cc64",
   "metadata": {},
   "outputs": [],
   "source": [
    "X = df[['Engine Size(L)', 'Transmission', 'CO2 Emissions(g/km)', 'Smog Rating']]\n",
    "Y = df['Fuel Consumption(Comb (L/100 km))']"
   ]
  },
  {
   "cell_type": "code",
   "execution_count": null,
   "id": "610bec7b",
   "metadata": {},
   "outputs": [],
   "source": [
    "from sklearn.model_selection import train_test_split\n",
    "X_train, X_test, Y_train, Y_test = train_test_split(X, Y, test_size = .2, random_state=2021)"
   ]
  },
  {
   "cell_type": "code",
   "execution_count": null,
   "id": "637d4de7",
   "metadata": {},
   "outputs": [],
   "source": [
    "# make a dictionary of hyperparameter values to search\n",
    "search_space = {\n",
    "    \"n_estimators\" : [20, 40, 60],\n",
    "    \"max_depth\" : [2, 8, 9],\n",
    "    \"max_features\" : [0.2, 0.6],\n",
    "    \"max_samples\" : [0.5, 0.75, 1.0]\n",
    "}"
   ]
  },
  {
   "cell_type": "code",
   "execution_count": null,
   "id": "2ef284eb",
   "metadata": {},
   "outputs": [],
   "source": [
    "from sklearn.model_selection import GridSearchCV\n",
    "# make a GridSearchCV object\n",
    "GS = GridSearchCV(estimator = RFR,\n",
    "                  param_grid = search_space,\n",
    "                  scoring = [\"r2\", \"neg_root_mean_squared_error\"], #sklearn.metrics.SCORERS.keys()\n",
    "                  refit = \"r2\",\n",
    "                  cv = 5,\n",
    "                  verbose = 4)"
   ]
  },
  {
   "cell_type": "code",
   "execution_count": null,
   "id": "6a858d4b",
   "metadata": {
    "scrolled": true
   },
   "outputs": [],
   "source": [
    "GS.fit(X_train, Y_train)"
   ]
  },
  {
   "cell_type": "code",
   "execution_count": null,
   "id": "38adc45a",
   "metadata": {},
   "outputs": [],
   "source": [
    "print(GS.best_estimator_) # to get the complete details of the best model"
   ]
  },
  {
   "cell_type": "code",
   "execution_count": null,
   "id": "84c2a5a0",
   "metadata": {},
   "outputs": [],
   "source": [
    "print(GS.best_params_) # to get only the best hyperparameter values that we searched for"
   ]
  },
  {
   "cell_type": "code",
   "execution_count": null,
   "id": "b6d5df0c",
   "metadata": {},
   "outputs": [],
   "source": [
    "print(GS.best_score_) # score according to the metric we passed in refit"
   ]
  },
  {
   "cell_type": "markdown",
   "id": "c60f7409",
   "metadata": {},
   "source": [
    "### Train a polynomial regression model with degree 2, and 3 and compare it’s performance with other models "
   ]
  },
  {
   "cell_type": "code",
   "execution_count": null,
   "id": "f0d6b2a2",
   "metadata": {},
   "outputs": [],
   "source": [
    "X = df[['Engine Size(L)', 'Transmission', 'CO2 Emissions(g/km)', 'Smog Rating']]\n",
    "y = df['Fuel Consumption(Comb (L/100 km))']"
   ]
  },
  {
   "cell_type": "code",
   "execution_count": null,
   "id": "8e2ec45c",
   "metadata": {},
   "outputs": [],
   "source": [
    "from sklearn.model_selection import train_test_split\n",
    "X_train, X_test, y_train, y_test = train_test_split( X, y, test_size=0.2, random_state=4)"
   ]
  },
  {
   "cell_type": "code",
   "execution_count": null,
   "id": "3a8e3012",
   "metadata": {},
   "outputs": [],
   "source": [
    "from sklearn.preprocessing import PolynomialFeatures\n",
    "from sklearn.linear_model import LinearRegression\n",
    "poly_reg = PolynomialFeatures(degree = 2)\n",
    "X_poly = poly_reg.fit_transform(X_train)\n",
    "regressor = LinearRegression()\n",
    "regressor.fit(X_poly, y_train)"
   ]
  },
  {
   "cell_type": "code",
   "execution_count": null,
   "id": "63c0eae3",
   "metadata": {},
   "outputs": [],
   "source": [
    "y_pred = regressor.predict(poly_reg.transform(X_test))\n",
    "np.set_printoptions(precision=2)"
   ]
  },
  {
   "cell_type": "code",
   "execution_count": null,
   "id": "4abb620d",
   "metadata": {},
   "outputs": [],
   "source": [
    "from sklearn import metrics\n",
    "from sklearn.metrics import mean_squared_error,mean_absolute_error,explained_variance_score, r2_score\n",
    "print('Mean Absolute Error(MAE) of Random Forest regression:', metrics.mean_absolute_error(y_test, y_pred))\n",
    "print('Mean Squared Error(MSE) of Random Forest regression:', metrics.mean_squared_error(y_test, y_pred))\n",
    "print('Root Mean Squared Error (RMSE) of Random Forest regression:', np.sqrt(metrics.mean_squared_error(y_test, y_pred)))"
   ]
  },
  {
   "cell_type": "code",
   "execution_count": null,
   "id": "54fd6c6f",
   "metadata": {},
   "outputs": [],
   "source": [
    "from sklearn.preprocessing import PolynomialFeatures\n",
    "from sklearn.linear_model import LinearRegression\n",
    "poly_reg = PolynomialFeatures(degree = 3)\n",
    "X_poly = poly_reg.fit_transform(X_train)\n",
    "regressor = LinearRegression()\n",
    "regressor.fit(X_poly, y_train)"
   ]
  },
  {
   "cell_type": "code",
   "execution_count": null,
   "id": "193ab633",
   "metadata": {},
   "outputs": [],
   "source": [
    "from sklearn import metrics\n",
    "from sklearn.metrics import mean_squared_error,mean_absolute_error,explained_variance_score, r2_score\n",
    "print('Mean Absolute Error(MAE) of Random Forest regression:', metrics.mean_absolute_error(y_test, y_pred))\n",
    "print('Mean Squared Error(MSE) of Random Forest regression:', metrics.mean_squared_error(y_test, y_pred))\n",
    "print('Root Mean Squared Error (RMSE) of Random Forest regression:', np.sqrt(metrics.mean_squared_error(y_test, y_pred)))"
   ]
  },
  {
   "cell_type": "code",
   "execution_count": null,
   "id": "32ab6a53",
   "metadata": {},
   "outputs": [],
   "source": []
  },
  {
   "cell_type": "code",
   "execution_count": null,
   "id": "0e847f57",
   "metadata": {},
   "outputs": [],
   "source": []
  }
 ],
 "metadata": {
  "kernelspec": {
   "display_name": "Python 3 (ipykernel)",
   "language": "python",
   "name": "python3"
  },
  "language_info": {
   "codemirror_mode": {
    "name": "ipython",
    "version": 3
   },
   "file_extension": ".py",
   "mimetype": "text/x-python",
   "name": "python",
   "nbconvert_exporter": "python",
   "pygments_lexer": "ipython3",
   "version": "3.9.12"
  }
 },
 "nbformat": 4,
 "nbformat_minor": 5
}
